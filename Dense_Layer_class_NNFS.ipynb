{
  "nbformat": 4,
  "nbformat_minor": 0,
  "metadata": {
    "colab": {
      "provenance": []
    },
    "kernelspec": {
      "name": "python3",
      "display_name": "Python 3"
    },
    "language_info": {
      "name": "python"
    }
  },
  "cells": [
    {
      "cell_type": "code",
      "source": [
        "pip install nnfs"
      ],
      "metadata": {
        "colab": {
          "base_uri": "https://localhost:8080/"
        },
        "id": "Ce0PK-EnTIqq",
        "outputId": "adfa0755-80bb-41af-8838-1909b7de236b"
      },
      "execution_count": null,
      "outputs": [
        {
          "output_type": "stream",
          "name": "stdout",
          "text": [
            "Collecting nnfs\n",
            "  Downloading nnfs-0.5.1-py3-none-any.whl.metadata (1.7 kB)\n",
            "Requirement already satisfied: numpy in /usr/local/lib/python3.10/dist-packages (from nnfs) (1.26.4)\n",
            "Downloading nnfs-0.5.1-py3-none-any.whl (9.1 kB)\n",
            "Installing collected packages: nnfs\n",
            "Successfully installed nnfs-0.5.1\n"
          ]
        }
      ]
    },
    {
      "cell_type": "code",
      "execution_count": null,
      "metadata": {
        "colab": {
          "base_uri": "https://localhost:8080/"
        },
        "id": "jjHZkfltODes",
        "outputId": "f24081a1-8b0f-40a6-a660-c4b9464f5498"
      },
      "outputs": [
        {
          "output_type": "execute_result",
          "data": {
            "text/plain": [
              "array([[0.33333334, 0.33333334, 0.33333334],\n",
              "       [0.3333332 , 0.3333332 , 0.33333364],\n",
              "       [0.3333329 , 0.33333293, 0.3333342 ],\n",
              "       [0.3333326 , 0.33333263, 0.33333477],\n",
              "       [0.33333233, 0.3333324 , 0.33333528],\n",
              "       [0.33333284, 0.33333287, 0.3333343 ],\n",
              "       [0.33333182, 0.3333319 , 0.33333626],\n",
              "       [0.3333318 , 0.3333319 , 0.33333623],\n",
              "       [0.3333315 , 0.3333316 , 0.33333692],\n",
              "       [0.33333105, 0.3333312 , 0.33333772],\n",
              "       [0.3333308 , 0.33333096, 0.3333382 ],\n",
              "       [0.3333311 , 0.33333126, 0.33333766],\n",
              "       [0.33333054, 0.3333307 , 0.33333877],\n",
              "       [0.3333301 , 0.3333303 , 0.3333396 ],\n",
              "       [0.33333012, 0.33333036, 0.33333954],\n",
              "       [0.33332998, 0.3333302 , 0.3333398 ],\n",
              "       [0.33333126, 0.33333188, 0.33333683],\n",
              "       [0.33332938, 0.33332965, 0.33334094],\n",
              "       [0.33332992, 0.33333033, 0.33333975],\n",
              "       [0.33332875, 0.33332902, 0.33334222],\n",
              "       [0.33332875, 0.33332902, 0.3333422 ],\n",
              "       [0.33333096, 0.33333182, 0.3333372 ],\n",
              "       [0.33333176, 0.3333328 , 0.3333354 ],\n",
              "       [0.33332893, 0.3333294 , 0.3333417 ],\n",
              "       [0.33332562, 0.33332703, 0.33334732],\n",
              "       [0.33332816, 0.33332846, 0.3333434 ],\n",
              "       [0.33333147, 0.3333327 , 0.33333585],\n",
              "       [0.33333132, 0.33333257, 0.33333614],\n",
              "       [0.33332416, 0.33332577, 0.33335006],\n",
              "       [0.33332348, 0.33332515, 0.3333514 ],\n",
              "       [0.3333273 , 0.33332902, 0.3333437 ],\n",
              "       [0.33332512, 0.33332697, 0.3333479 ],\n",
              "       [0.33333036, 0.33333203, 0.33333758],\n",
              "       [0.33332896, 0.3333302 , 0.33334082],\n",
              "       [0.3333249 , 0.3333269 , 0.33334818],\n",
              "       [0.33332175, 0.33332378, 0.3333545 ],\n",
              "       [0.3333199 , 0.33332118, 0.3333589 ],\n",
              "       [0.33331978, 0.33332092, 0.33335936],\n",
              "       [0.33332056, 0.3333227 , 0.33335674],\n",
              "       [0.33331943, 0.33332145, 0.33335912],\n",
              "       [0.33332086, 0.33332318, 0.33335593],\n",
              "       [0.33332133, 0.33332375, 0.3333549 ],\n",
              "       [0.33332148, 0.33332396, 0.33335456],\n",
              "       [0.33332664, 0.33332652, 0.33334678],\n",
              "       [0.33331683, 0.3333185 , 0.3333647 ],\n",
              "       [0.33331677, 0.3333182 , 0.33336502],\n",
              "       [0.3333161 , 0.3333182 , 0.33336577],\n",
              "       [0.33332363, 0.33332345, 0.3333529 ],\n",
              "       [0.33331528, 0.33331743, 0.33336726],\n",
              "       [0.33331963, 0.3333197 , 0.33336067],\n",
              "       [0.33331674, 0.33331758, 0.3333657 ],\n",
              "       [0.3333258 , 0.33332565, 0.3333485 ],\n",
              "       [0.33332083, 0.3333206 , 0.33335856],\n",
              "       [0.33331746, 0.33331788, 0.3333647 ],\n",
              "       [0.33332694, 0.33332682, 0.33334622],\n",
              "       [0.33333272, 0.33333272, 0.33333457],\n",
              "       [0.33333123, 0.3333312 , 0.3333376 ],\n",
              "       [0.33333322, 0.33333322, 0.33333355],\n",
              "       [0.33332834, 0.33332822, 0.33334342],\n",
              "       [0.33333284, 0.33333284, 0.33333433],\n",
              "       [0.33333173, 0.33333173, 0.3333365 ],\n",
              "       [0.3333321 , 0.33333215, 0.33333576],\n",
              "       [0.33333334, 0.33333334, 0.33333334],\n",
              "       [0.33332705, 0.33332694, 0.33334595],\n",
              "       [0.33332348, 0.3333241 , 0.33335242],\n",
              "       [0.33332598, 0.33332643, 0.33334762],\n",
              "       [0.33333334, 0.33333334, 0.33333334],\n",
              "       [0.33331823, 0.33331916, 0.33336264],\n",
              "       [0.33332485, 0.3333254 , 0.33334976],\n",
              "       [0.3333178 , 0.33331877, 0.33336344],\n",
              "       [0.33331564, 0.33331668, 0.3333677 ],\n",
              "       [0.33331585, 0.33331692, 0.33336726],\n",
              "       [0.33331633, 0.33331734, 0.3333663 ],\n",
              "       [0.33331937, 0.33332023, 0.33336037],\n",
              "       [0.33331499, 0.33331612, 0.33336893],\n",
              "       [0.33331487, 0.333316  , 0.33336914],\n",
              "       [0.3333146 , 0.33331576, 0.33336967],\n",
              "       [0.33331382, 0.33331504, 0.33337116],\n",
              "       [0.3333142 , 0.33331537, 0.33337045],\n",
              "       [0.33331612, 0.33331716, 0.3333667 ],\n",
              "       [0.33331305, 0.33331433, 0.3333726 ],\n",
              "       [0.33332267, 0.33332574, 0.33335155],\n",
              "       [0.33332086, 0.3333236 , 0.3333555 ],\n",
              "       [0.3333125 , 0.33331382, 0.3333737 ],\n",
              "       [0.33332086, 0.33332556, 0.33335358],\n",
              "       [0.33331248, 0.33331755, 0.33337   ],\n",
              "       [0.3333192 , 0.33332402, 0.33335674],\n",
              "       [0.33332294, 0.33332652, 0.3333506 ],\n",
              "       [0.33331785, 0.33332008, 0.33336207],\n",
              "       [0.33331192, 0.3333172 , 0.33337083],\n",
              "       [0.33332598, 0.33333024, 0.33334377],\n",
              "       [0.33330488, 0.33331022, 0.3333849 ],\n",
              "       [0.33331457, 0.33331993, 0.33336553],\n",
              "       [0.3333028 , 0.33330813, 0.333389  ],\n",
              "       [0.33330676, 0.33331233, 0.33338088],\n",
              "       [0.3333011 , 0.33330637, 0.3333926 ],\n",
              "       [0.3333055 , 0.33331123, 0.33338326],\n",
              "       [0.3332984 , 0.33330104, 0.33340055],\n",
              "       [0.33329985, 0.3333053 , 0.33339489],\n",
              "       [0.33329675, 0.33330163, 0.33340165]], dtype=float32)"
            ]
          },
          "metadata": {},
          "execution_count": 4
        }
      ],
      "source": [
        "import numpy as np\n",
        "import nnfs\n",
        "from nnfs.datasets import spiral_data\n",
        "nnfs.init()\n",
        "\n",
        "class Layer_Dense:\n",
        "  def __init__(self,n_inputs,n_neurons):\n",
        "      self.weights = 0.01 * np.random.randn(n_inputs,n_neurons)\n",
        "      self.biases = np.zeros((1,n_neurons))\n",
        "\n",
        "  def forward(self,inputs):\n",
        "      self.outputs = np.dot(inputs, self.weights) + self.biases\n",
        "\n",
        "class Activation_ReLu:\n",
        "  def forward(self,inputs):\n",
        "      self.outputs = np.maximum(0,inputs)\n",
        "\n",
        "\n",
        "class Activation_SoftMax:\n",
        "  def forward(self,inputs):\n",
        "      exp_Values = np.exp(inputs - np.max(inputs, axis = 1, keepdims = True))\n",
        "      probabilities =  exp_Values / np.sum(exp_Values, axis = 1, keepdims = True)\n",
        "      self.outputs = probabilities\n",
        "\n",
        "x,y = spiral_data(samples = 100, classes = 3)\n",
        "Dense1 = Layer_Dense(2,3)\n",
        "AvtivationReLu = Activation_ReLu()\n",
        "Dense2 = Layer_Dense(3,3)\n",
        "ActivationSoftMax = Activation_SoftMax()\n",
        "\n",
        "\n",
        "\n",
        "Dense1.forward(x)\n",
        "AvtivationReLu.forward(Dense1.outputs)\n",
        "\n",
        "Dense2.forward(AvtivationReLu.outputs)\n",
        "\n",
        "ActivationSoftMax.forward(Dense2.outputs)\n",
        "\n",
        "\n",
        "ActivationSoftMax.outputs[:100]\n"
      ]
    },
    {
      "cell_type": "code",
      "source": [
        "softmax_output = np.array([\n",
        "    [0.7,0.1,0.2],\n",
        "    [0.1,0.5,0.4],\n",
        "    [0.02,0.9,0.08]\n",
        "])\n",
        "\n",
        "class_Target = [0,1,1]\n",
        "print(softmax_output[[0,1,2], class_Target])"
      ],
      "metadata": {
        "colab": {
          "base_uri": "https://localhost:8080/"
        },
        "id": "FfUeoc-H5Ce2",
        "outputId": "04d3632e-cb70-49d8-c6ed-a5224a1ea41f"
      },
      "execution_count": null,
      "outputs": [
        {
          "output_type": "stream",
          "name": "stdout",
          "text": [
            "[0.7 0.5 0.9]\n"
          ]
        }
      ]
    },
    {
      "cell_type": "code",
      "source": [
        "print(-np.log(softmax_output[\n",
        "    range(len(softmax_output)),class_Target\n",
        "]))\n",
        "neg_log = -np.log(softmax_output[\n",
        "    range(len(softmax_output)),class_Target\n",
        "])\n",
        "average_Loss = np.mean(neg_log)\n",
        "print(average_Loss)"
      ],
      "metadata": {
        "colab": {
          "base_uri": "https://localhost:8080/"
        },
        "id": "ssYGpumgUdxf",
        "outputId": "2ac1eaf2-b22e-4bee-c303-11271cdd4b27"
      },
      "execution_count": null,
      "outputs": [
        {
          "output_type": "stream",
          "name": "stdout",
          "text": [
            "[0.35667494 0.69314718 0.10536052]\n",
            "0.38506088005216804\n"
          ]
        }
      ]
    },
    {
      "cell_type": "code",
      "source": [
        "y_true_check  = np.array([\n",
        "    [1,0,0],\n",
        "    [0,1,0],\n",
        "    [0,1,0]\n",
        "])\n",
        "\n",
        "y_pred_clipped_check = np.array([\n",
        "    [0.7,0.2,0.1],\n",
        "    [0.1,0.5,0.4],\n",
        "    [0.02,0.9,0.08]\n",
        "])\n",
        "\n",
        "A = y_pred_clipped_check*y_true_check\n",
        "B = np.sum(A,axis = 1)\n",
        "c = -np.log(B)\n",
        "np.mean(c)"
      ],
      "metadata": {
        "colab": {
          "base_uri": "https://localhost:8080/"
        },
        "id": "aR6I-7hi-QiJ",
        "outputId": "d2386b79-0246-42d8-bdd9-bf8ea1e0d796"
      },
      "execution_count": null,
      "outputs": [
        {
          "output_type": "execute_result",
          "data": {
            "text/plain": [
              "0.38506088005216804"
            ]
          },
          "metadata": {},
          "execution_count": 17
        }
      ]
    },
    {
      "cell_type": "code",
      "source": [
        "class Loss:\n",
        "  def calculate(self,output,y):\n",
        "    sample_losses = self.forward(output,y)\n",
        "    data_loss = np.mean(sample_losses)\n",
        "    return data_loss"
      ],
      "metadata": {
        "id": "KsWTWS2VLLy5"
      },
      "execution_count": null,
      "outputs": []
    },
    {
      "cell_type": "code",
      "source": [
        "class Loss_CategoricalCrossEntropy(Loss):\n",
        "  def forward(self,y_pred,y_true):\n",
        "    samples = len(y_pred)\n",
        "    y_pred_clipped = np.clip(y_pred,1e-7,1-1e-7)\n",
        "    if len(y_true.shape) == 1:\n",
        "      correct_confidence = y_pred_clipped[\n",
        "      range(samples),\n",
        "      y_true]\n",
        "\n",
        "    elif len(y_true.shape) ==2:\n",
        "      correct_confidence = np.sum(\n",
        "          y_pred_clipped*y_true,\n",
        "          axis = 1\n",
        "      )\n",
        "\n",
        "    negative_log_likelihood = -np.log(correct_confidence)\n",
        "    return negative_log_likelihood"
      ],
      "metadata": {
        "id": "p52FSe-GEGCm"
      },
      "execution_count": null,
      "outputs": []
    },
    {
      "cell_type": "code",
      "source": [
        "softmax_outputs = np.array([[0.7,0.1,0.2],\n",
        "                            [0.1,0.5,0.4],\n",
        "                            [0.02,0.9,0.08]])\n",
        "\n",
        "class_Targets = np.array([[1,0,0],\n",
        "                          [0,1,0],\n",
        "                          [0,1,0]])\n",
        "\n",
        "loss_Function = Loss_CategoricalCrossEntropy()\n",
        "loss = loss_Function.calculate(softmax_outputs, class_Targets)\n",
        "loss"
      ],
      "metadata": {
        "colab": {
          "base_uri": "https://localhost:8080/"
        },
        "id": "uhAMOuHPmji4",
        "outputId": "64f0af6e-7d73-4f03-bdc0-dd84d75fe67b"
      },
      "execution_count": null,
      "outputs": [
        {
          "output_type": "execute_result",
          "data": {
            "text/plain": [
              "0.38506088005216804"
            ]
          },
          "metadata": {},
          "execution_count": 21
        }
      ]
    },
    {
      "cell_type": "code",
      "source": [
        "import numpy as np\n",
        "import nnfs\n",
        "\n",
        "nnfs.init()\n",
        "\n",
        "from nnfs.datasets import spiral_data"
      ],
      "metadata": {
        "colab": {
          "base_uri": "https://localhost:8080/",
          "height": 383
        },
        "id": "BOHwZbXS887p",
        "outputId": "9a891cca-4a6f-4c5d-b2fc-ca919e4327a9"
      },
      "execution_count": null,
      "outputs": [
        {
          "output_type": "error",
          "ename": "ModuleNotFoundError",
          "evalue": "No module named 'nnfs'",
          "traceback": [
            "\u001b[0;31m---------------------------------------------------------------------------\u001b[0m",
            "\u001b[0;31mModuleNotFoundError\u001b[0m                       Traceback (most recent call last)",
            "\u001b[0;32m<ipython-input-35-f077d13df1ee>\u001b[0m in \u001b[0;36m<cell line: 2>\u001b[0;34m()\u001b[0m\n\u001b[1;32m      1\u001b[0m \u001b[0;32mimport\u001b[0m \u001b[0mnumpy\u001b[0m \u001b[0;32mas\u001b[0m \u001b[0mnp\u001b[0m\u001b[0;34m\u001b[0m\u001b[0;34m\u001b[0m\u001b[0m\n\u001b[0;32m----> 2\u001b[0;31m \u001b[0;32mimport\u001b[0m \u001b[0mnnfs\u001b[0m\u001b[0;34m\u001b[0m\u001b[0;34m\u001b[0m\u001b[0m\n\u001b[0m\u001b[1;32m      3\u001b[0m \u001b[0;34m\u001b[0m\u001b[0m\n\u001b[1;32m      4\u001b[0m \u001b[0mnnfs\u001b[0m\u001b[0;34m.\u001b[0m\u001b[0minit\u001b[0m\u001b[0;34m(\u001b[0m\u001b[0;34m)\u001b[0m\u001b[0;34m\u001b[0m\u001b[0;34m\u001b[0m\u001b[0m\n\u001b[1;32m      5\u001b[0m \u001b[0;34m\u001b[0m\u001b[0m\n",
            "\u001b[0;31mModuleNotFoundError\u001b[0m: No module named 'nnfs'",
            "",
            "\u001b[0;31m---------------------------------------------------------------------------\u001b[0;32m\nNOTE: If your import is failing due to a missing package, you can\nmanually install dependencies using either !pip or !apt.\n\nTo view examples of installing some common dependencies, click the\n\"Open Examples\" button below.\n\u001b[0;31m---------------------------------------------------------------------------\u001b[0m\n"
          ],
          "errorDetails": {
            "actions": [
              {
                "action": "open_url",
                "actionText": "Open Examples",
                "url": "/notebooks/snippets/importing_libraries.ipynb"
              }
            ]
          }
        }
      ]
    }
  ]
}