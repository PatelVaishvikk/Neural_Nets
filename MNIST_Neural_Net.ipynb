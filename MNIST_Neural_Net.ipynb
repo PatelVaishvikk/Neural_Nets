{
  "nbformat": 4,
  "nbformat_minor": 0,
  "metadata": {
    "colab": {
      "provenance": []
    },
    "kernelspec": {
      "name": "python3",
      "display_name": "Python 3"
    },
    "language_info": {
      "name": "python"
    }
  },
  "cells": [
    {
      "cell_type": "code",
      "execution_count": null,
      "metadata": {
        "id": "At_ojpH7jOcd"
      },
      "outputs": [],
      "source": [
        "import numpy as np"
      ]
    },
    {
      "cell_type": "code",
      "source": [
        "def sigmoid(x):\n",
        "  return 1 / (1 + np.exp(-x))\n"
      ],
      "metadata": {
        "id": "74ZbV24Lqcq6"
      },
      "execution_count": null,
      "outputs": []
    },
    {
      "cell_type": "code",
      "source": [
        "def sigmoid_Derivation(x):\n",
        "  return x * (x-1)"
      ],
      "metadata": {
        "id": "_ZQ2vrCcqqQL"
      },
      "execution_count": null,
      "outputs": []
    },
    {
      "cell_type": "code",
      "source": [
        "class NeuralNet:\n",
        "  def __init__(self):\n",
        "    self.input_size = 784\n",
        "    self.hidden_size = 64\n",
        "    self.output_size = 10\n",
        "\n",
        "    self.w1 = np.random.randn(self.input_size,self.hidden_size)*0.01\n",
        "    self.b1 = np.zeros((1,self.hidden_size))\n",
        "    self.w2 = np.random.randn(self.hidden_size, self.output_size)*0.01\n",
        "    self.b2 = np.zeros((1,self.output_size))\n",
        "\n",
        "  def forwardPass(self,X):\n",
        "    self.z1 = np.dot(X,self.w1) + self.b1\n",
        "    self.a1 = sigmoid(self.z1)\n",
        "    self.z2 = np.dot(self.a1,self.w2) + self.b2\n",
        "    self.a2 = sigmoid(self.z2)\n",
        "    return self.a2\n",
        "\n",
        "  def backPass(self,X,y,output,learning_rate=0.1):\n",
        "    self.error = y - output\n",
        "    self.delta2 = self.error * sigmoid_Derivation(output)\n",
        "    self.error_Hidden = np.dot(self.delta2, self.w2.T)\n",
        "    self.delta1 = self.error_Hidden * sigmoid_Derivation(self.a1)\n",
        "\n",
        "    self.w2 += learning_rate * np.dot(self.a1.T, self.delta2)\n",
        "    self.b2 += learning_rate * np.sum(self.delta2, axis=0, keepdims=True)\n",
        "    self.w1 += learning_rate * np.dot(X.T, self.delta1)\n",
        "    self.b1 += learning_rate * np.sum(self.delta1, axis=0, keepdims=True)\n",
        "\n"
      ],
      "metadata": {
        "id": "Oj2PAz4ZqvRp"
      },
      "execution_count": null,
      "outputs": []
    }
  ]
}